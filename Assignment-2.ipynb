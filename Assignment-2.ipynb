{
 "cells": [
  {
   "cell_type": "code",
   "execution_count": 1,
   "metadata": {},
   "outputs": [],
   "source": [
    "#defining myreduce function\n",
    "def myreduce(function,seq):\n",
    "    first = seq[0]\n",
    "    for i in seq[1:]:\n",
    "        first = function(first,i)\n",
    "    return first"
   ]
  },
  {
   "cell_type": "code",
   "execution_count": 2,
   "metadata": {},
   "outputs": [],
   "source": [
    "#defining logic of myreduce function\n",
    "def sumxin(x1,x2):\n",
    "    return x1+x2"
   ]
  },
  {
   "cell_type": "code",
   "execution_count": 8,
   "metadata": {},
   "outputs": [
    {
     "data": {
      "text/plain": [
       "100"
      ]
     },
     "execution_count": 8,
     "metadata": {},
     "output_type": "execute_result"
    }
   ],
   "source": [
    "#reduce funtion output\n",
    "myreduce(sumxin,[1,2,3,94])"
   ]
  },
  {
   "cell_type": "code",
   "execution_count": 4,
   "metadata": {},
   "outputs": [],
   "source": [
    "#custom filter function\n",
    "def myfilter(function,seqi):\n",
    "    first = []\n",
    "    for i in seqi:\n",
    "        if function(i):\n",
    "            first.append(i)\n",
    "    return first"
   ]
  },
  {
   "cell_type": "code",
   "execution_count": 56,
   "metadata": {},
   "outputs": [],
   "source": [
    "# filter function definitio\n",
    "def filterni(x):\n",
    "    if x >= 75:\n",
    "             return x"
   ]
  },
  {
   "cell_type": "code",
   "execution_count": 57,
   "metadata": {},
   "outputs": [
    {
     "data": {
      "text/plain": [
       "[99, 75]"
      ]
     },
     "execution_count": 57,
     "metadata": {},
     "output_type": "execute_result"
    }
   ],
   "source": [
    "myfilter(filterni,[1,99,75,65])"
   ]
  },
  {
   "cell_type": "code",
   "execution_count": 63,
   "metadata": {},
   "outputs": [
    {
     "name": "stdout",
     "output_type": "stream",
     "text": [
      "  ['A', 'C', 'A', 'D', 'G', 'I', 'L', 'D']\n"
     ]
    }
   ],
   "source": [
    "#LIST COMPREHENSIONS EXCERSIZE\n",
    "listword = \"ACADGILD\"\n",
    "output_l = [i for i in listword]\n",
    "print(\" \",str(output_l))"
   ]
  },
  {
   "cell_type": "code",
   "execution_count": 74,
   "metadata": {},
   "outputs": [
    {
     "name": "stdout",
     "output_type": "stream",
     "text": [
      "['x', 'xx', 'xxx', 'xxxx', 'y', 'yy', 'yyy', 'yyyy', 'z', 'zz', 'zzz', 'zzzz']\n"
     ]
    }
   ],
   "source": [
    "input_l = ['x','y','z']\n",
    "output_l = [i*num for num in input_l for i in range(1,5)]\n",
    "print(output_l)"
   ]
  },
  {
   "cell_type": "code",
   "execution_count": 86,
   "metadata": {},
   "outputs": [
    {
     "name": "stdout",
     "output_type": "stream",
     "text": [
      "['x', 'y', 'z', 'xx', 'yy', 'zz', 'xxx', 'yyy', 'zzz', 'xxxx', 'yyyy', 'zzzz']\n"
     ]
    }
   ],
   "source": [
    "input_l = ['x','y','z']\n",
    "output_l = [i*seq for i in range(1,5) for seq in input_l]\n",
    "print(output_l)"
   ]
  },
  {
   "cell_type": "code",
   "execution_count": 83,
   "metadata": {},
   "outputs": [
    {
     "name": "stdout",
     "output_type": "stream",
     "text": [
      "[[2], [3], [4], [3], [4], [5], [4], [5], [6]]\n"
     ]
    }
   ],
   "source": [
    "input_l = [2,3,4]\n",
    "output_l = [[num+i] for i in range(0,3) for num in input_l ]\n",
    "print(output_l)"
   ]
  },
  {
   "cell_type": "code",
   "execution_count": 93,
   "metadata": {},
   "outputs": [
    {
     "name": "stdout",
     "output_type": "stream",
     "text": [
      "[[0, 0, 0, 0], [2, 3, 4, 5], [4, 6, 8, 10], [6, 9, 12, 15]]\n"
     ]
    }
   ],
   "source": [
    "input_l = [2,3,4,5]\n",
    "output_l = [[num+i for num in input_l]for i in range(0,4)]\n",
    "print(output_l)"
   ]
  },
  {
   "cell_type": "code",
   "execution_count": 105,
   "metadata": {},
   "outputs": [
    {
     "name": "stdout",
     "output_type": "stream",
     "text": [
      "[(1, 1), (2, 1), (3, 1), (1, 2), (2, 2), (3, 2), (1, 3), (2, 3), (3, 3)]\n"
     ]
    }
   ],
   "source": [
    "input_l = [1,2,3]\n",
    "output_l = [(i,num) for num in input_l for i in range(1,4)]\n",
    "print(output_l)"
   ]
  },
  {
   "cell_type": "code",
   "execution_count": 265,
   "metadata": {},
   "outputs": [],
   "source": [
    "#program for longest number in given list\n",
    "\n",
    "def largestnumfun(input_i):\n",
    "    sizenum = 0\n",
    "    for i in input_i.split(','):\n",
    "        if len(i) > sizenum:\n",
    "            sizenum = len(i)\n",
    "            longest = i\n",
    "        return i"
   ]
  },
  {
   "cell_type": "code",
   "execution_count": 266,
   "metadata": {},
   "outputs": [
    {
     "data": {
      "text/plain": [
       "'kjfkjff'"
      ]
     },
     "execution_count": 266,
     "metadata": {},
     "output_type": "execute_result"
    }
   ],
   "source": [
    "largestnumfun('kjfkjff,laj')"
   ]
  },
  {
   "cell_type": "markdown",
   "metadata": {},
   "source": [
    "# Task 2:"
   ]
  },
  {
   "cell_type": "code",
   "execution_count": 419,
   "metadata": {},
   "outputs": [],
   "source": [
    "#program for area of triangle on defining variables in super class and logic on subclass\n",
    "class triangle_i:\n",
    "    def __init__ (self,a,b,c):\n",
    "        self.a = a\n",
    "        self.b = b\n",
    "        self.c = c\n",
    "        print(\"initilized triangle \"+\" a : \" +str(a)+\" b :\"+str(b)+\" c :\"+str(c))"
   ]
  },
  {
   "cell_type": "code",
   "execution_count": 420,
   "metadata": {
    "scrolled": true
   },
   "outputs": [],
   "source": [
    "class tri_subclass(triangle_i):\n",
    "    def __init__ (self, *args):\n",
    "        print(\"initilized subclass utilities\")\n",
    "        super(tri_subclass,self).__init__ (*args)\n",
    "    def getarea(self):\n",
    "        s = (self.a+self.b+self.c)/2\n",
    "        print(s)\n",
    "        return (s*(s-self.a)*(s-self.b)*(s-self.c))**0.5"
   ]
  },
  {
   "cell_type": "code",
   "execution_count": 421,
   "metadata": {},
   "outputs": [
    {
     "name": "stdout",
     "output_type": "stream",
     "text": [
      "initilized subclass utilities\n",
      "initilized triangle  a : 1 b :2 c :3\n"
     ]
    }
   ],
   "source": [
    "obj1 = tri_subclass(1,2,3)"
   ]
  },
  {
   "cell_type": "code",
   "execution_count": 413,
   "metadata": {},
   "outputs": [
    {
     "name": "stdout",
     "output_type": "stream",
     "text": [
      "3.0\n",
      "3.0\n",
      "Area of traningle is :0.0\n"
     ]
    }
   ],
   "source": [
    "obj1.getarea()\n",
    "print('Area of traningle is :'+str(obj1.getarea()))"
   ]
  },
  {
   "cell_type": "code",
   "execution_count": 138,
   "metadata": {},
   "outputs": [],
   "source": [
    "#filter long numbers from given list from user\n",
    "def filter_long_word(listn,n):\n",
    "    return [i  for i  in listn if len(i) >n]"
   ]
  },
  {
   "cell_type": "code",
   "execution_count": 142,
   "metadata": {},
   "outputs": [
    {
     "data": {
      "text/plain": [
       "['dkdjkd', 'dkjd', 'kkl', 'kj,dkjkdjkd']"
      ]
     },
     "execution_count": 142,
     "metadata": {},
     "output_type": "execute_result"
    }
   ],
   "source": [
    "filter_long_word(['dkdjkd','dkjd','kkl','kj,''dkjkdjkd'],2)"
   ]
  },
  {
   "cell_type": "code",
   "execution_count": 145,
   "metadata": {},
   "outputs": [],
   "source": [
    "#find the length of the input list from function\n",
    "def lenfind(inpn_l):\n",
    "    return [len(i) for i in inpn_l]"
   ]
  },
  {
   "cell_type": "code",
   "execution_count": 147,
   "metadata": {},
   "outputs": [
    {
     "data": {
      "text/plain": [
       "[4, 6, 16]"
      ]
     },
     "execution_count": 147,
     "metadata": {},
     "output_type": "execute_result"
    }
   ],
   "source": [
    "lenfind(['dkjd','dkjdkj','djkdjkdjjdkdkjdk'])"
   ]
  },
  {
   "cell_type": "code",
   "execution_count": 233,
   "metadata": {},
   "outputs": [],
   "source": [
    "#defining function to test whether input is vowel or not\n",
    "def testvowel(input_list):\n",
    "    for i in input_list:\n",
    "        input_list = ('a','e','i','o','u')\n",
    "        if i not in input_list:\n",
    "            return False\n",
    "        return True"
   ]
  },
  {
   "cell_type": "code",
   "execution_count": 234,
   "metadata": {},
   "outputs": [
    {
     "data": {
      "text/plain": [
       "True"
      ]
     },
     "execution_count": 234,
     "metadata": {},
     "output_type": "execute_result"
    }
   ],
   "source": [
    "testvowel('a')"
   ]
  },
  {
   "cell_type": "code",
   "execution_count": 236,
   "metadata": {},
   "outputs": [
    {
     "data": {
      "text/plain": [
       "False"
      ]
     },
     "execution_count": 236,
     "metadata": {},
     "output_type": "execute_result"
    }
   ],
   "source": [
    "testvowel('w')"
   ]
  },
  {
   "cell_type": "code",
   "execution_count": null,
   "metadata": {},
   "outputs": [],
   "source": []
  }
 ],
 "metadata": {
  "kernelspec": {
   "display_name": "Python 3",
   "language": "python",
   "name": "python3"
  },
  "language_info": {
   "codemirror_mode": {
    "name": "ipython",
    "version": 3
   },
   "file_extension": ".py",
   "mimetype": "text/x-python",
   "name": "python",
   "nbconvert_exporter": "python",
   "pygments_lexer": "ipython3",
   "version": "3.7.4"
  }
 },
 "nbformat": 4,
 "nbformat_minor": 2
}

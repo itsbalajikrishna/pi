{
 "cells": [
  {
   "cell_type": "code",
   "execution_count": 3,
   "metadata": {},
   "outputs": [
    {
     "name": "stdout",
     "output_type": "stream",
     "text": [
      "Thanks ineuron for your community service\n"
     ]
    }
   ],
   "source": [
    "print('Thanks ineuron for your community service')"
   ]
  },
  {
   "cell_type": "markdown",
   "metadata": {},
   "source": [
    "Write a program which will find all such numbers which are divisible by 7 but are not a multiple\n",
    "of 5, between 2000 and 3200 (both included). The numbers obtained should be printed in a\n",
    "comma-separated sequence on a single line."
   ]
  },
  {
   "cell_type": "code",
   "execution_count": 59,
   "metadata": {},
   "outputs": [
    {
     "name": "stdout",
     "output_type": "stream",
     "text": [
      "2030,2065,2100,2135,2170,2205,2240,2275,2310,2345,2380,2415,2450,2485,2520,2555,2590,2625,2660,2695,2730,2765,2800,2835,2870,2905,2940,2975,3010,3045,3080,3115,3150,3185\n"
     ]
    }
   ],
   "source": [
    "m = []\n",
    "for i in range(2000,3200):\n",
    "    if i%7==0 and i%5==0:\n",
    "        m.append(str(i))\n",
    "print(','.join(m))"
   ]
  },
  {
   "cell_type": "raw",
   "metadata": {},
   "source": [
    "Write a Python program to accept the user's first and last name and then getting them printed in\n",
    "the the reverse order with a space between first name and last name"
   ]
  },
  {
   "cell_type": "code",
   "execution_count": 78,
   "metadata": {},
   "outputs": [
    {
     "name": "stdout",
     "output_type": "stream",
     "text": [
      "Enter first name :balaji\n",
      "Enter last name :krishna\n",
      "ijalab anhsirk\n"
     ]
    }
   ],
   "source": [
    "first_name = str(input('Enter first name :'))\n",
    "last_name = str(input('Enter last name :'))\n",
    "print(first_name[::-1]+\" \"+last_name[::-1])"
   ]
  },
  {
   "cell_type": "raw",
   "metadata": {},
   "source": [
    "# Write a Python program to find the volume of a sphere with diameter 12 cm.\n",
    "Formula: V=4/3 * π * r 3"
   ]
  },
  {
   "cell_type": "code",
   "execution_count": 82,
   "metadata": {},
   "outputs": [
    {
     "name": "stdout",
     "output_type": "stream",
     "text": [
      "Enter range5\n"
     ]
    },
    {
     "data": {
      "text/plain": [
       "523.3333333333334"
      ]
     },
     "execution_count": 82,
     "metadata": {},
     "output_type": "execute_result"
    }
   ],
   "source": [
    "pi = 3.14\n",
    "r = int(input('Enter range'))\n",
    "volume = 4/3 * pi * r**3\n",
    "volume"
   ]
  },
  {
   "cell_type": "markdown",
   "metadata": {},
   "source": [
    "Write a program which accepts a sequence of comma-separated numbers from console and\n",
    "generate a list."
   ]
  },
  {
   "cell_type": "code",
   "execution_count": 85,
   "metadata": {},
   "outputs": [
    {
     "name": "stdout",
     "output_type": "stream",
     "text": [
      "Enter interger with commas1,2,3\n"
     ]
    },
    {
     "data": {
      "text/plain": [
       "['1', '2', '3']"
      ]
     },
     "execution_count": 85,
     "metadata": {},
     "output_type": "execute_result"
    }
   ],
   "source": [
    "seq = input('Enter interger with commas')\n",
    "l =seq.split(',')\n",
    "l"
   ]
  },
  {
   "cell_type": "raw",
   "metadata": {},
   "source": [
    "Create the below pattern using nested for loop in Python.\n",
    "*\n",
    "* *\n",
    "* * *\n",
    "* * * *\n",
    "* * * * *\n",
    "* * * *\n",
    "* * *\n",
    "* *\n",
    "*\n"
   ]
  },
  {
   "cell_type": "code",
   "execution_count": 91,
   "metadata": {},
   "outputs": [
    {
     "name": "stdout",
     "output_type": "stream",
     "text": [
      "Enter the range for pattern5\n",
      "*  \n",
      "* *  \n",
      "* * *  \n",
      "* * * *  \n",
      "* * * * *  \n",
      "* * * *   \n",
      "* * *   \n",
      "* *   \n",
      "*   \n",
      "  \n"
     ]
    }
   ],
   "source": [
    "input_user = int(input('Enter the range for pattern'))\n",
    "for rowx in range(0,input_user):\n",
    "    for colnx in range(0,rowx+1):\n",
    "        print(\"*\",end=\" \")\n",
    "    print(' ')\n",
    "for rowx in range(input_user,0,-1):\n",
    "    for colnx in range(0,rowx-1):\n",
    "        print(\"*\", end=\" \")\n",
    "    print(\"  \")"
   ]
  },
  {
   "cell_type": "raw",
   "metadata": {},
   "source": [
    "Write a Python program to reverse a word after accepting the input from the user."
   ]
  },
  {
   "cell_type": "code",
   "execution_count": 34,
   "metadata": {},
   "outputs": [
    {
     "data": {
      "text/plain": [
       "'dliGdacA'"
      ]
     },
     "execution_count": 34,
     "metadata": {},
     "output_type": "execute_result"
    }
   ],
   "source": [
    "inp_user = \"AcadGild\"\n",
    "inp_user[::-1]"
   ]
  },
  {
   "cell_type": "markdown",
   "metadata": {},
   "source": [
    "WE, THE PEOPLE OF INDIA, \n",
    "  having solemnly resolved to constitute India into a SOVEREIGN, \n",
    "      SOCIALIST, SECULAR, DEMOCRATIC REPUBLIC \n",
    "       and to secure to all its citizens"
   ]
  },
  {
   "cell_type": "code",
   "execution_count": 65,
   "metadata": {},
   "outputs": [
    {
     "data": {
      "text/plain": [
       "'WE, THE PEOPLE OF INDIA, having solemnly resolved to constitute India into a SOVEREIGN, SOCIALIST, SECULAR, DEMOCRATIC REPUBLIC and to secure to all its citizens'"
      ]
     },
     "execution_count": 65,
     "metadata": {},
     "output_type": "execute_result"
    }
   ],
   "source": [
    "strn = \"WE, THE PEOPLE OF INDIA, having solemnly resolved to constitute India into a SOVEREIGN, SOCIALIST, SECULAR, DEMOCRATIC REPUBLIC and to secure to all its citizens\"\n",
    "strn"
   ]
  },
  {
   "cell_type": "code",
   "execution_count": 71,
   "metadata": {},
   "outputs": [
    {
     "name": "stdout",
     "output_type": "stream",
     "text": [
      "WE, THE PEOPLE OF INDIA, \n",
      " having solemnly resolved to constitute India into a SOVEREIGN, ! \n",
      "\t SOCIALIST, SECULAR, DEMOCRATIC REPUBLIC\n",
      "\t\t and to secure to all its citizens\n"
     ]
    }
   ],
   "source": [
    "strno = strn.replace('INDIA,',\"INDIA, \\n\").replace(\"SOVEREIGN,\",\"SOVEREIGN, ! \\n\\t\").replace(\"REPUBLIC\",\"REPUBLIC\\n\\t\\t\")\n",
    "print(strno)"
   ]
  },
  {
   "cell_type": "code",
   "execution_count": null,
   "metadata": {},
   "outputs": [],
   "source": []
  }
 ],
 "metadata": {
  "kernelspec": {
   "display_name": "Python 3",
   "language": "python",
   "name": "python3"
  },
  "language_info": {
   "codemirror_mode": {
    "name": "ipython",
    "version": 3
   },
   "file_extension": ".py",
   "mimetype": "text/x-python",
   "name": "python",
   "nbconvert_exporter": "python",
   "pygments_lexer": "ipython3",
   "version": "3.7.4"
  }
 },
 "nbformat": 4,
 "nbformat_minor": 2
}
